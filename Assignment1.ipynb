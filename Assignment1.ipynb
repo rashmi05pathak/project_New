{
  "nbformat": 4,
  "nbformat_minor": 0,
  "metadata": {
    "colab": {
      "name": "Assignment1.ipynb",
      "provenance": [],
      "authorship_tag": "ABX9TyOtdGCCIVonHydJhF9gtyvb",
      "include_colab_link": true
    },
    "kernelspec": {
      "name": "python3",
      "display_name": "Python 3"
    }
  },
  "cells": [
    {
      "cell_type": "markdown",
      "metadata": {
        "id": "view-in-github",
        "colab_type": "text"
      },
      "source": [
        "<a href=\"https://colab.research.google.com/github/rashmi05pathak/project_New/blob/master/Assignment1.ipynb\" target=\"_parent\"><img src=\"https://colab.research.google.com/assets/colab-badge.svg\" alt=\"Open In Colab\"/></a>"
      ]
    },
    {
      "cell_type": "code",
      "metadata": {
        "id": "hti_0BDgRmP-"
      },
      "source": [
        "# example of loading the mnist dataset\n",
        "from keras.datasets import fashion_mnist\n",
        "from matplotlib import pyplot\n"
      ],
      "execution_count": 2,
      "outputs": []
    },
    {
      "cell_type": "code",
      "metadata": {
        "id": "pYKtjmHfUOoe",
        "colab": {
          "base_uri": "https://localhost:8080/"
        },
        "outputId": "312ec09d-b188-4e84-caa3-5963b0a430a6"
      },
      "source": [
        "# load dataset\n",
        "(train_images, train_labels), (test_images, test_labels) = fashion_mnist.load_data()"
      ],
      "execution_count": 3,
      "outputs": [
        {
          "output_type": "stream",
          "text": [
            "Downloading data from https://storage.googleapis.com/tensorflow/tf-keras-datasets/train-labels-idx1-ubyte.gz\n",
            "32768/29515 [=================================] - 0s 0us/step\n",
            "Downloading data from https://storage.googleapis.com/tensorflow/tf-keras-datasets/train-images-idx3-ubyte.gz\n",
            "26427392/26421880 [==============================] - 0s 0us/step\n",
            "Downloading data from https://storage.googleapis.com/tensorflow/tf-keras-datasets/t10k-labels-idx1-ubyte.gz\n",
            "8192/5148 [===============================================] - 0s 0us/step\n",
            "Downloading data from https://storage.googleapis.com/tensorflow/tf-keras-datasets/t10k-images-idx3-ubyte.gz\n",
            "4423680/4422102 [==============================] - 0s 0us/step\n"
          ],
          "name": "stdout"
        }
      ]
    },
    {
      "cell_type": "code",
      "metadata": {
        "id": "W-qPVoKkAhja"
      },
      "source": [
        "class_names = ['T-shirt/top', 'Trouser', 'Pullover', 'Dress', 'Coat',\n",
        "               'Sandal', 'Shirt', 'Sneaker', 'Bag', 'Ankle boot']"
      ],
      "execution_count": 4,
      "outputs": []
    },
    {
      "cell_type": "code",
      "metadata": {
        "colab": {
          "base_uri": "https://localhost:8080/",
          "height": 251
        },
        "id": "q59BGEDjBGCZ",
        "outputId": "19054f1d-13ef-402d-8ae4-bc4512113f54"
      },
      "source": [
        "pyplot.figure(figsize=(10,10))\n",
        "thisdict = {}\n",
        "#printing 10 unique items of dictionary\n",
        "for i in range(25):\n",
        "    thisdict[train_labels[i]] = train_images[i]\n",
        "\n",
        "i = 0\n",
        "for x in thisdict:\n",
        "    pyplot.subplot(5,5,i+1)\n",
        "    i = i+1\n",
        "    pyplot.xticks([])\n",
        "    pyplot.yticks([])\n",
        "    pyplot.grid(False)\n",
        "    pyplot.imshow(thisdict[x], cmap=pyplot.cm.binary)\n",
        "    pyplot.xlabel(class_names[x])\n",
        "pyplot.show()"
      ],
      "execution_count": 5,
      "outputs": [
        {
          "output_type": "display_data",
          "data": {
            "image/png": "[encoded data removed]",
            "text/plain": [
              "<Figure size 720x720 with 10 Axes>"
            ]
          },
          "metadata": {
            "tags": []
          }
        }
      ]
    },
    {
      "cell_type": "code",
      "metadata": {
        "id": "pxiWdPTKrm-t"
      },
      "source": [
        ""
      ],
      "execution_count": null,
      "outputs": []
    },
    {
      "cell_type": "code",
      "metadata": {
        "id": "BzdWn9EhoU3m"
      },
      "source": [
        ""
      ],
      "execution_count": null,
      "outputs": []
    },
    {
      "cell_type": "code",
      "metadata": {
        "id": "GVY2CuggB4lj",
        "colab": {
          "base_uri": "https://localhost:8080/"
        },
        "outputId": "6116e137-846d-4a73-d4eb-ce7a9d0c8748"
      },
      "source": [
        "# Standardize data to have feature values between 0 and 1.\n",
        "train_x = train_images/255.\n",
        "test_x = test_images/255.\n",
        "# Reshape the training and test examples\n",
        "train_x_flatten = train_x.reshape(train_x.shape[0], -1).T \n",
        "#,→ The \"-1\" makes reshape flatten the remaining dimensions\n",
        "test_x_flatten = test_x.reshape(test_x.shape[0], -1).T\n",
        "\n",
        "print(train_x_flatten.shape)\n",
        "print(test_x_flatten.shape)\n"
      ],
      "execution_count": 7,
      "outputs": [
        {
          "output_type": "stream",
          "text": [
            "(784, 60000)\n",
            "(784, 10000)\n"
          ],
          "name": "stdout"
        }
      ]
    },
    {
      "cell_type": "code",
      "metadata": {
        "id": "sSnlk3v0oWX6"
      },
      "source": [
        ""
      ],
      "execution_count": null,
      "outputs": []
    },
    {
      "cell_type": "code",
      "metadata": {
        "id": "VvVvIqCH0wK9"
      },
      "source": [
        "from random import seed\n",
        "from random import random \n",
        "from math import exp\n",
        "import numpy as np"
      ],
      "execution_count": null,
      "outputs": []
    },
    {
      "cell_type": "code",
      "metadata": {
        "id": "CxVBrlcpAfbD"
      },
      "source": [
        "#initialize a network\n",
        "def initialize_network(n_inputs, n_hidden, n_outputs):\n",
        "     network = list()\n",
        "     \n",
        "     for j in range(len(n_hidden)):\n",
        "        hidden_layer = [{'weights':[random() for i in range(n_hidden[j]+1)]} for i in range(n_hidden[j])]\n",
        "        network.append(hidden_layer)\n",
        "     output_layer = [{'weights':[random() for i in range(n_hidden[j]+1)]} for i in range(n_outputs)]\n",
        "     network.append(output_layer)\n",
        "     return network"
      ],
      "execution_count": null,
      "outputs": []
    },
    {
      "cell_type": "code",
      "metadata": {
        "id": "ilreAqDjTfEI",
        "colab": {
          "base_uri": "https://localhost:8080/"
        },
        "outputId": "4833be7f-e366-4fda-fb67-9395601a049a"
      },
      "source": [
        "seed(1)\n",
        "arr = [1] #array for hidden layer\n",
        "network = initialize_network(2,arr,2)\n",
        "for layer in network:\n",
        "    print(layer)"
      ],
      "execution_count": null,
      "outputs": [
        {
          "output_type": "stream",
          "text": [
            "[{'weights': [0.13436424411240122, 0.8474337369372327]}]\n",
            "[{'weights': [0.763774618976614, 0.2550690257394217]}, {'weights': [0.49543508709194095, 0.4494910647887381]}]\n"
          ],
          "name": "stdout"
        }
      ]
    },
    {
      "cell_type": "code",
      "metadata": {
        "id": "oMQt1rCGQIb5"
      },
      "source": [
        "#calculate neuron pre_activation at level i\n",
        "def pre_activate(weights,inputs):\n",
        "    activation = weights[-1]\n",
        "    for i in range(len(weights)-1):\n",
        "      activation+=weights[i] * inputs[i]\n",
        "    return activation"
      ],
      "execution_count": null,
      "outputs": []
    },
    {
      "cell_type": "code",
      "metadata": {
        "id": "Utf2zGKXRKOY"
      },
      "source": [
        "#activation at level i using softmax function\n",
        "def activate(activation,fun_type):\n",
        "     if fun_type == 'Sigmoid':\n",
        "        return 1.0/(1.0 + exp(-activation))\n",
        "     if fun_type == 'tanh':\n",
        "        return (np.exp(activation)-np.exp(-activation))/(np.exp(activation)+np.exp(-activation))\n",
        "     if fun_type == 'Relu':\n",
        "        return max(0.0, activation)"
      ],
      "execution_count": null,
      "outputs": []
    },
    {
      "cell_type": "code",
      "metadata": {
        "id": "FsAR_Ou9WKuY"
      },
      "source": [
        "#forward propogate input to a network output\n",
        "def forward_propogate(network,row):\n",
        "    inputs = row\n",
        "    for layer in network:\n",
        "      new_inputs = []\n",
        "      for neuron in layer:\n",
        "          activation = pre_activate(neuron['weights'],inputs)\n",
        "          neuron['output'] = activate(activation,'Sigmoid') #Here using sigmoid/tanh/relu as activation function \n",
        "          new_inputs.append(neuron['output'])\n",
        "      inputs = new_inputs\n",
        "    return inputs    "
      ],
      "execution_count": null,
      "outputs": []
    },
    {
      "cell_type": "code",
      "metadata": {
        "colab": {
          "base_uri": "https://localhost:8080/"
        },
        "id": "4OGgotbNXh5Z",
        "outputId": "0e1820a6-7bc6-499b-deb2-4ece719b735d"
      },
      "source": [
        "# test forward propagation\n",
        "network = [[{'weights': [0.13436424411240122, 0.8474337369372327, 0.763774618976614]}],\n",
        "\t\t      [{'weights': [0.2550690257394217, 0.49543508709194095]}, {'weights': [0.4494910647887381, 0.651592972722763]}]]\n",
        "row = [1, 0, None]\n",
        "output = forward_propogate(network, row)\n",
        "print(output)"
      ],
      "execution_count": null,
      "outputs": [
        {
          "output_type": "stream",
          "text": [
            "[0.6629970129852887, 0.7253160725279748]\n"
          ],
          "name": "stdout"
        }
      ]
    },
    {
      "cell_type": "code",
      "metadata": {
        "id": "VqM83IkpJvAP"
      },
      "source": [
        "#calculate the derivative of a neuron output (we are using sigmoid transfer function)\n",
        "def transfer_derivative(output):\n",
        "    return output*(1.0 - output)"
      ],
      "execution_count": null,
      "outputs": []
    },
    {
      "cell_type": "code",
      "metadata": {
        "id": "_sJVduaSEShs"
      },
      "source": [
        "#Backpropogation error and store in neurons\n",
        "def backward_propagate_error(network, expected):\n",
        "\tfor i in reversed(range(len(network))):\n",
        "\t\tlayer = network[i]\n",
        "\t\terrors = list()\n",
        "\t\tif i != len(network)-1:\n",
        "\t\t\tfor j in range(len(layer)):\n",
        "\t\t\t\terror = 0.0\n",
        "\t\t\t\tfor neuron in network[i + 1]:\n",
        "\t\t\t\t\terror += (neuron['weights'][j] * neuron['delta'])\n",
        "\t\t\t\terrors.append(error)\n",
        "\t\telse:\n",
        "\t\t\tfor j in range(len(layer)):\n",
        "\t\t\t\tneuron = layer[j]\n",
        "\t\t\t\terrors.append(expected[j] - neuron['output'])\n",
        "\t\tfor j in range(len(layer)):\n",
        "\t\t\tneuron = layer[j]\n",
        "\t\t\tneuron['delta'] = errors[j] * transfer_derivative(neuron['output'])\n"
      ],
      "execution_count": null,
      "outputs": []
    },
    {
      "cell_type": "code",
      "metadata": {
        "colab": {
          "base_uri": "https://localhost:8080/"
        },
        "id": "OiovOvaqGHrm",
        "outputId": "1bd7a170-5619-4cfa-c382-1645b84d6ec9"
      },
      "source": [
        "# test backpropagation of error\n",
        "network = [[{'output': 0.7105668883115941, 'weights': [0.13436424411240122, 0.8474337369372327, 0.763774618976614]}],\n",
        "\t\t[{'output': 0.6213859615555266, 'weights': [0.2550690257394217, 0.49543508709194095]}, {'output': 0.6573693455986976, 'weights': [0.4494910647887381, 0.651592972722763]}]]\n",
        "expected = [0, 1]\n",
        "backward_propagate_error(network, expected)\n",
        "for layer in network:\n",
        "\tprint(layer)"
      ],
      "execution_count": null,
      "outputs": [
        {
          "output_type": "stream",
          "text": [
            "[{'output': 0.7105668883115941, 'weights': [0.13436424411240122, 0.8474337369372327, 0.763774618976614], 'delta': -0.0005348048046610517}]\n",
            "[{'output': 0.6213859615555266, 'weights': [0.2550690257394217, 0.49543508709194095], 'delta': -0.14619064683582808}, {'output': 0.6573693455986976, 'weights': [0.4494910647887381, 0.651592972722763], 'delta': 0.0771723774346327}]\n"
          ],
          "name": "stdout"
        }
      ]
    },
    {
      "cell_type": "code",
      "metadata": {
        "id": "xGB0nvb7TKaK"
      },
      "source": [
        "# Update network weights with error\n",
        "def update_weights(network, row, l_rate):\n",
        "\tfor i in range(len(network)):\n",
        "\t\tinputs = row[:-1]\n",
        "\t\tif i != 0:\n",
        "\t\t\tinputs = [neuron['output'] for neuron in network[i - 1]]\n",
        "\t\tfor neuron in network[i]:\n",
        "\t\t\tfor j in range(len(inputs)):\n",
        "\t\t\t\tneuron['weights'][j] += l_rate * neuron['delta'] * inputs[j]\n",
        "\t\t\tneuron['weights'][-1] += l_rate * neuron['delta']"
      ],
      "execution_count": null,
      "outputs": []
    },
    {
      "cell_type": "code",
      "metadata": {
        "id": "VrKopGfOVlF6"
      },
      "source": [
        "# Train a network for a fixed number of epochs\n",
        "def train_network(network, train, l_rate, n_epoch, n_outputs):\n",
        "\tfor epoch in range(n_epoch):\n",
        "\t\tsum_error = 0\n",
        "\t\tfor row in train:\n",
        "\t\t\toutputs = forward_propagate(network, row)\n",
        "\t\t\texpected = [0 for i in range(n_outputs)]\n",
        "\t\t\texpected[row[-1]] = 1\n",
        "\t\t\tsum_error += sum([(expected[i]-outputs[i])**2 for i in range(len(expected))])\n",
        "\t\t\tbackward_propagate_error(network, expected)\n",
        "\t\t\tupdate_weights(network, row, l_rate)\n",
        "\t\tprint('>epoch=%d, lrate=%.3f, error=%.3f' % (epoch, l_rate, sum_error))"
      ],
      "execution_count": null,
      "outputs": []
    },
    {
      "cell_type": "code",
      "metadata": {
        "id": "OEZ-cWxQZ1qK"
      },
      "source": [
        ""
      ],
      "execution_count": null,
      "outputs": []
    }
  ]
}